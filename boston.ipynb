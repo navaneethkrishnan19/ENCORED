{
  "nbformat": 4,
  "nbformat_minor": 0,
  "metadata": {
    "colab": {
      "provenance": [],
      "authorship_tag": "ABX9TyOpAdBFRft5u9vmOMAFjtQQ",
      "include_colab_link": true
    },
    "kernelspec": {
      "name": "python3",
      "display_name": "Python 3"
    },
    "language_info": {
      "name": "python"
    }
  },
  "cells": [
    {
      "cell_type": "markdown",
      "metadata": {
        "id": "view-in-github",
        "colab_type": "text"
      },
      "source": [
        "<a href=\"https://colab.research.google.com/github/navaneethkrishnan19/ENCORED/blob/main/boston.ipynb\" target=\"_parent\"><img src=\"https://colab.research.google.com/assets/colab-badge.svg\" alt=\"Open In Colab\"/></a>"
      ]
    },
    {
      "cell_type": "code",
      "execution_count": null,
      "metadata": {
        "colab": {
          "base_uri": "https://localhost:8080/"
        },
        "id": "yqdt-j3aGpNP",
        "outputId": "495f5e43-5fdb-468d-d281-0f1f8a749fad"
      },
      "outputs": [
        {
          "output_type": "stream",
          "name": "stdout",
          "text": [
            "      CRIM    ZN  INDUS  CHAS    NOX     RM   AGE     DIS  RAD    TAX  \\\n",
            "0  0.00632  18.0   2.31   0.0  0.538  6.575  65.2  4.0900  1.0  296.0   \n",
            "1  0.02731   0.0   7.07   0.0  0.469  6.421  78.9  4.9671  2.0  242.0   \n",
            "2  0.02729   0.0   7.07   0.0  0.469  7.185  61.1  4.9671  2.0  242.0   \n",
            "3  0.03237   0.0   2.18   0.0  0.458  6.998  45.8  6.0622  3.0  222.0   \n",
            "4  0.06905   0.0   2.18   0.0  0.458  7.147  54.2  6.0622  3.0  222.0   \n",
            "\n",
            "   PTRATIO       B  LSTAT  MEDV  \n",
            "0     15.3  396.90   4.98  24.0  \n",
            "1     17.8  396.90   9.14  21.6  \n",
            "2     17.8  392.83   4.03  34.7  \n",
            "3     18.7  394.63   2.94  33.4  \n",
            "4     18.7  396.90   5.33  36.2  \n"
          ]
        }
      ],
      "source": [
        "import pandas as pd\n",
        "from scipy import stats\n",
        "\n",
        "# Load the dataset (assuming it's uploaded to your Colab environment)\n",
        "data_df = pd.read_csv('boston.csv')\n",
        "\n",
        "# Identify outliers using z-score\n",
        "z_scores = stats.zscore(data_df)\n",
        "\n",
        "# Define threshold for identifying outliers (e.g., z-score > 3 or < -3)\n",
        "threshold = 3\n",
        "\n",
        "# Boolean array indicating outliers\n",
        "outlier_mask = (abs(z_scores) > threshold).any(axis=1)\n",
        "\n",
        "# Handling outliers by replacing them with NaN or trimming/removing them\n",
        "data_df.loc[outlier_mask] = pd.NA  # Replace outliers with NaN\n",
        "\n",
        "# Alternatively, you can trim/remove outliers\n",
        "# data_df = data_df[~outlier_mask]  # Remove outliers from the dataset\n",
        "\n",
        "# Verify the result\n",
        "print(data_df.head())\n",
        "\n"
      ]
    }
  ]
}