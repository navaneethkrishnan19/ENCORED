{
  "nbformat": 4,
  "nbformat_minor": 0,
  "metadata": {
    "colab": {
      "provenance": [],
      "authorship_tag": "ABX9TyPB3vBkmZ+YgM1UovYpu2QG",
      "include_colab_link": true
    },
    "kernelspec": {
      "name": "python3",
      "display_name": "Python 3"
    },
    "language_info": {
      "name": "python"
    }
  },
  "cells": [
    {
      "cell_type": "markdown",
      "metadata": {
        "id": "view-in-github",
        "colab_type": "text"
      },
      "source": [
        "<a href=\"https://colab.research.google.com/github/navaneethkrishnan19/ENCORED/blob/main/wine.ipynb\" target=\"_parent\"><img src=\"https://colab.research.google.com/assets/colab-badge.svg\" alt=\"Open In Colab\"/></a>"
      ]
    },
    {
      "cell_type": "code",
      "execution_count": null,
      "metadata": {
        "colab": {
          "base_uri": "https://localhost:8080/"
        },
        "id": "CfwU7wnOnrkO",
        "outputId": "577e3b9b-ce32-4cb6-b63e-4538fc000dd6"
      },
      "outputs": [
        {
          "output_type": "stream",
          "name": "stdout",
          "text": [
            "Data types before conversion:\n",
            "Class                             int64\n",
            "Alcohol                         float64\n",
            "Malic acid                      float64\n",
            "Ash                             float64\n",
            "Alcalinity of ash               float64\n",
            "Magnesium                         int64\n",
            "Total phenols                   float64\n",
            "Flavanoids                      float64\n",
            "Nonflavanoid phenols            float64\n",
            "Proanthocyanins                 float64\n",
            "Color intensity                 float64\n",
            "Hue                             float64\n",
            "OD280/OD315 of diluted wines    float64\n",
            "Proline                           int64\n",
            "dtype: object\n",
            "\n",
            "Data types after conversion:\n",
            "Class                             int64\n",
            "Alcohol                         float64\n",
            "Malic acid                      float64\n",
            "Ash                             float64\n",
            "Alcalinity of ash               float64\n",
            "Magnesium                         int64\n",
            "Total phenols                   float64\n",
            "Flavanoids                      float64\n",
            "Nonflavanoid phenols            float64\n",
            "Proanthocyanins                 float64\n",
            "Color intensity                 float64\n",
            "Hue                             float64\n",
            "OD280/OD315 of diluted wines    float64\n",
            "Proline                           int64\n",
            "dtype: object\n"
          ]
        }
      ],
      "source": [
        "import pandas as pd\n",
        "\n",
        "# Load the dataset\n",
        "url = \"https://archive.ics.uci.edu/ml/machine-learning-databases/wine/wine.data\"\n",
        "column_names = ['Class', 'Alcohol', 'Malic acid', 'Ash', 'Alcalinity of ash',\n",
        "                'Magnesium', 'Total phenols', 'Flavanoids', 'Nonflavanoid phenols',\n",
        "                'Proanthocyanins', 'Color intensity', 'Hue', 'OD280/OD315 of diluted wines', 'Proline']\n",
        "wine_df = pd.read_csv(url, names=column_names)\n",
        "\n",
        "# Examine the current data types of columns\n",
        "print(\"Data types before conversion:\")\n",
        "print(wine_df.dtypes)\n",
        "\n",
        "# Convert data types as needed\n",
        "# For example, if 'Alcohol' column is currently of type object (string), convert it to float\n",
        "wine_df['Alcohol'] = wine_df['Alcohol'].astype(float)\n",
        "\n",
        "# Similarly, convert other columns to appropriate data types as needed\n",
        "\n",
        "# Verify that the data types have been converted correctly\n",
        "print(\"\\nData types after conversion:\")\n",
        "print(wine_df.dtypes)\n",
        "\n",
        "# Now you can proceed with further analysis or modeling\n"
      ]
    }
  ]
}