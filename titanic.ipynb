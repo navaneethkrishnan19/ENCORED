{
  "nbformat": 4,
  "nbformat_minor": 0,
  "metadata": {
    "colab": {
      "provenance": [],
      "authorship_tag": "ABX9TyOtt8oVwi8IeIGRLdRwHWNJ",
      "include_colab_link": true
    },
    "kernelspec": {
      "name": "python3",
      "display_name": "Python 3"
    },
    "language_info": {
      "name": "python"
    }
  },
  "cells": [
    {
      "cell_type": "markdown",
      "metadata": {
        "id": "view-in-github",
        "colab_type": "text"
      },
      "source": [
        "<a href=\"https://colab.research.google.com/github/navaneethkrishnan19/ENCORED/blob/main/titanic.ipynb\" target=\"_parent\"><img src=\"https://colab.research.google.com/assets/colab-badge.svg\" alt=\"Open In Colab\"/></a>"
      ]
    },
    {
      "cell_type": "code",
      "execution_count": null,
      "metadata": {
        "colab": {
          "base_uri": "https://localhost:8080/"
        },
        "id": "VHsHd9hwjZWL",
        "outputId": "5c0eacb5-3411-42b4-eab5-8b21245c14c6"
      },
      "outputs": [
        {
          "output_type": "stream",
          "name": "stdout",
          "text": [
            "Missing values in the first dataset:\n",
            "PassengerId    0\n",
            "Survived       0\n",
            "dtype: int64\n",
            "\n",
            "Missing values in the second dataset:\n",
            "PassengerId      0\n",
            "Pclass           0\n",
            "Name             0\n",
            "Sex              0\n",
            "Age             86\n",
            "SibSp            0\n",
            "Parch            0\n",
            "Ticket           0\n",
            "Fare             1\n",
            "Cabin          327\n",
            "Embarked         0\n",
            "dtype: int64\n",
            "\n",
            "Missing values in the third dataset:\n",
            "PassengerId      0\n",
            "Survived         0\n",
            "Pclass           0\n",
            "Name             0\n",
            "Sex              0\n",
            "Age            177\n",
            "SibSp            0\n",
            "Parch            0\n",
            "Ticket           0\n",
            "Fare             0\n",
            "Cabin          687\n",
            "Embarked         2\n",
            "dtype: int64\n"
          ]
        }
      ],
      "source": [
        "import pandas as pd\n",
        "\n",
        "# Load the first dataset\n",
        "df1 = pd.read_csv('gender_submission.csv')\n",
        "\n",
        "# Identify missing values in the first dataset\n",
        "missing_values_df1 = df1.isnull().sum()\n",
        "\n",
        "# Decide on handling strategy for the first dataset\n",
        "\n",
        "# Example: Impute missing values for numerical columns with the mean\n",
        "# df1['column_name'].fillna(df1['column_name'].mean(), inplace=True)\n",
        "\n",
        "# Example: Drop rows with missing values in specific columns\n",
        "# df1.dropna(subset=['column_name'], inplace=True)\n",
        "\n",
        "# Repeat the above steps for the second dataset\n",
        "df2 = pd.read_csv('test.csv')\n",
        "missing_values_df2 = df2.isnull().sum()\n",
        "# Handle missing values in the second dataset\n",
        "\n",
        "# Repeat the above steps for the third dataset\n",
        "df3 = pd.read_csv('train.csv')\n",
        "missing_values_df3 = df3.isnull().sum()\n",
        "# Handle missing values in the third dataset\n",
        "\n",
        "# Print out the results\n",
        "print(\"Missing values in the first dataset:\")\n",
        "print(missing_values_df1)\n",
        "print(\"\\nMissing values in the second dataset:\")\n",
        "print(missing_values_df2)\n",
        "print(\"\\nMissing values in the third dataset:\")\n",
        "print(missing_values_df3)\n"
      ]
    }
  ]
}