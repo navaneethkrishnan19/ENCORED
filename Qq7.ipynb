{
  "nbformat": 4,
  "nbformat_minor": 0,
  "metadata": {
    "colab": {
      "provenance": [],
      "authorship_tag": "ABX9TyPcvnG4C8ig1l7OaqWyQqkL",
      "include_colab_link": true
    },
    "kernelspec": {
      "name": "python3",
      "display_name": "Python 3"
    },
    "language_info": {
      "name": "python"
    }
  },
  "cells": [
    {
      "cell_type": "markdown",
      "metadata": {
        "id": "view-in-github",
        "colab_type": "text"
      },
      "source": [
        "<a href=\"https://colab.research.google.com/github/navaneethkrishnan19/ENCORED/blob/main/Qq7.ipynb\" target=\"_parent\"><img src=\"https://colab.research.google.com/assets/colab-badge.svg\" alt=\"Open In Colab\"/></a>"
      ]
    },
    {
      "cell_type": "code",
      "execution_count": 4,
      "metadata": {
        "colab": {
          "base_uri": "https://localhost:8080/"
        },
        "id": "8BA105STIEQF",
        "outputId": "c756e710-ec7f-44a8-a88e-1909931a3a6e"
      },
      "outputs": [
        {
          "output_type": "stream",
          "name": "stdout",
          "text": [
            "Accuracy: 0.0\n"
          ]
        },
        {
          "output_type": "stream",
          "name": "stderr",
          "text": [
            "/usr/local/lib/python3.10/dist-packages/sklearn/linear_model/_stochastic_gradient.py:163: FutureWarning: The loss 'log' was deprecated in v1.1 and will be removed in version 1.3. Use `loss='log_loss'` which is equivalent.\n",
            "  warnings.warn(\n"
          ]
        }
      ],
      "source": [
        "\n",
        "import numpy as np\n",
        "import pandas as pd\n",
        "from sklearn.model_selection import train_test_split\n",
        "from sklearn.linear_model import SGDClassifier\n",
        "from sklearn.preprocessing import StandardScaler\n",
        "from sklearn.metrics import accuracy_score\n",
        "\n",
        "# Load dataset\n",
        "# Example dataset provided directly in the script\n",
        "data = pd.DataFrame({\n",
        "    'age': [63, 67, 67, 37, 41],\n",
        "    'sex': [1, 1, 1, 1, 0],\n",
        "    'cp': [1, 4, 4, 3, 2],\n",
        "    'trestbps': [145, 160, 120, 130, 130],\n",
        "    'chol': [233, 286, 229, 250, 204],\n",
        "    'fbs': [1, 0, 0, 0, 0],\n",
        "    'restecg': [2, 2, 2, 0, 2],\n",
        "    'thalach': [150, 108, 129, 187, 172],\n",
        "    'exang': [0, 1, 1, 0, 0],\n",
        "    'oldpeak': [2.3, 1.5, 2.6, 3.5, 1.4],\n",
        "    'slope': [3, 2, 2, 3, 1],\n",
        "    'ca': [0, 3, 2, 0, 0],\n",
        "    'thal': [6, 3, 7, 3, 3],\n",
        "    'target': [0, 1, 0, 0, 1]\n",
        "})\n",
        "\n",
        "# Preprocess the data\n",
        "# No preprocessing necessary for this example dataset\n",
        "\n",
        "# Split features and target variable\n",
        "X = data.drop('target', axis=1)\n",
        "y = data['target']\n",
        "\n",
        "# Split dataset into training and testing sets\n",
        "X_train, X_test, y_train, y_test = train_test_split(X, y, test_size=0.2, random_state=42)\n",
        "\n",
        "# Feature scaling\n",
        "scaler = StandardScaler()\n",
        "X_train_scaled = scaler.fit_transform(X_train)\n",
        "X_test_scaled = scaler.transform(X_test)\n",
        "\n",
        "# Initialize SGDClassifier\n",
        "sgd_clf = SGDClassifier(loss='log', max_iter=1000, random_state=42)\n",
        "\n",
        "# Train the classifier\n",
        "sgd_clf.fit(X_train_scaled, y_train)\n",
        "\n",
        "# Predict on the testing set\n",
        "y_pred = sgd_clf.predict(X_test_scaled)\n",
        "\n",
        "# Evaluate accuracy\n",
        "accuracy = accuracy_score(y_test, y_pred)\n",
        "print(\"Accuracy:\", accuracy)\n"
      ]
    }
  ]
}