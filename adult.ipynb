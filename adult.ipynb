{
  "nbformat": 4,
  "nbformat_minor": 0,
  "metadata": {
    "colab": {
      "provenance": [],
      "authorship_tag": "ABX9TyOWODRETSyM4/0MUm9QypSM",
      "include_colab_link": true
    },
    "kernelspec": {
      "name": "python3",
      "display_name": "Python 3"
    },
    "language_info": {
      "name": "python"
    }
  },
  "cells": [
    {
      "cell_type": "markdown",
      "metadata": {
        "id": "view-in-github",
        "colab_type": "text"
      },
      "source": [
        "<a href=\"https://colab.research.google.com/github/navaneethkrishnan19/ENCORED/blob/main/adult.ipynb\" target=\"_parent\"><img src=\"https://colab.research.google.com/assets/colab-badge.svg\" alt=\"Open In Colab\"/></a>"
      ]
    },
    {
      "cell_type": "code",
      "execution_count": null,
      "metadata": {
        "colab": {
          "base_uri": "https://localhost:8080/"
        },
        "id": "LOILBHwEpil_",
        "outputId": "90972be0-9d23-493d-c08f-03953b265188"
      },
      "outputs": [
        {
          "output_type": "stream",
          "name": "stdout",
          "text": [
            "Number of duplicate rows before removal: 24\n",
            "Number of duplicate rows after removal: 0\n"
          ]
        }
      ],
      "source": [
        "import pandas as pd\n",
        "\n",
        "# Load the dataset (assuming it's saved as 'adult.data' in the current directory)\n",
        "column_names = ['age', 'workclass', 'fnlwgt', 'education', 'education-num', 'marital-status',\n",
        "                'occupation', 'relationship', 'race', 'sex', 'capital-gain', 'capital-loss',\n",
        "                'hours-per-week', 'native-country', 'income']\n",
        "adult_df = pd.read_csv('adult.data', names=column_names, na_values=' ?')\n",
        "\n",
        "# Check for duplicate rows\n",
        "num_duplicates = adult_df.duplicated().sum()\n",
        "print(\"Number of duplicate rows before removal:\", num_duplicates)\n",
        "\n",
        "# Remove duplicate rows\n",
        "adult_df.drop_duplicates(inplace=True)\n",
        "\n",
        "# Confirm that duplicates have been removed\n",
        "num_duplicates_after_removal = adult_df.duplicated().sum()\n",
        "print(\"Number of duplicate rows after removal:\", num_duplicates_after_removal)\n",
        "\n",
        "# Now you can proceed with further analysis or modeling\n"
      ]
    }
  ]
}