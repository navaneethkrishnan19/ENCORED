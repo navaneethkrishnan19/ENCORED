{
  "nbformat": 4,
  "nbformat_minor": 0,
  "metadata": {
    "colab": {
      "provenance": [],
      "authorship_tag": "ABX9TyOZX/2FCjVg3XHuEH/HfDg2",
      "include_colab_link": true
    },
    "kernelspec": {
      "name": "python3",
      "display_name": "Python 3"
    },
    "language_info": {
      "name": "python"
    }
  },
  "cells": [
    {
      "cell_type": "markdown",
      "metadata": {
        "id": "view-in-github",
        "colab_type": "text"
      },
      "source": [
        "<a href=\"https://colab.research.google.com/github/navaneethkrishnan19/ENCORED/blob/main/breast_cancer.ipynb\" target=\"_parent\"><img src=\"https://colab.research.google.com/assets/colab-badge.svg\" alt=\"Open In Colab\"/></a>"
      ]
    },
    {
      "cell_type": "code",
      "execution_count": null,
      "metadata": {
        "colab": {
          "base_uri": "https://localhost:8080/"
        },
        "id": "azeU3h0TqRfv",
        "outputId": "e8aab044-62a8-4f0d-d9d0-8f0e3e748921"
      },
      "outputs": [
        {
          "output_type": "stream",
          "name": "stdout",
          "text": [
            "Unique values after label encoding:\n",
            "[1 0]\n"
          ]
        }
      ],
      "source": [
        "import pandas as pd\n",
        "\n",
        "# Load the dataset\n",
        "url = \"https://archive.ics.uci.edu/ml/machine-learning-databases/breast-cancer-wisconsin/wdbc.data\"\n",
        "column_names = ['ID', 'Diagnosis', 'Mean Radius', 'Mean Texture', 'Mean Perimeter', 'Mean Area',\n",
        "                'Mean Smoothness', 'Mean Compactness', 'Mean Concavity', 'Mean Concave Points',\n",
        "                'Mean Symmetry', 'Mean Fractal Dimension', 'SE Radius', 'SE Texture', 'SE Perimeter',\n",
        "                'SE Area', 'SE Smoothness', 'SE Compactness', 'SE Concavity', 'SE Concave Points',\n",
        "                'SE Symmetry', 'SE Fractal Dimension', 'Worst Radius', 'Worst Texture', 'Worst Perimeter',\n",
        "                'Worst Area', 'Worst Smoothness', 'Worst Compactness', 'Worst Concavity',\n",
        "                'Worst Concave Points', 'Worst Symmetry', 'Worst Fractal Dimension']\n",
        "breast_cancer_df = pd.read_csv(url, names=column_names)\n",
        "\n",
        "# Apply label encoding to the Diagnosis column\n",
        "diagnosis_mapping = {'M': 1, 'B': 0}  # Map 'M' (malignant) to 1 and 'B' (benign) to 0\n",
        "breast_cancer_df['Diagnosis'] = breast_cancer_df['Diagnosis'].map(diagnosis_mapping)\n",
        "\n",
        "# Verify that categorical variables have been encoded properly\n",
        "print(\"Unique values after label encoding:\")\n",
        "print(breast_cancer_df['Diagnosis'].unique())\n",
        "\n",
        "\n"
      ]
    }
  ]
}